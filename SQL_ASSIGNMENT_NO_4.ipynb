{
  "nbformat": 4,
  "nbformat_minor": 0,
  "metadata": {
    "colab": {
      "name": "SQL_ASSIGNMENT_NO.4.ipynb",
      "provenance": [],
      "collapsed_sections": []
    },
    "kernelspec": {
      "name": "python3",
      "display_name": "Python 3"
    },
    "language_info": {
      "name": "python"
    }
  },
  "cells": [
    {
      "cell_type": "markdown",
      "source": [
        "**Q-1. Write an SQL query to print the FIRST_NAME from Worker table after replacing ‘a’\n",
        "with ‘A’.**  \n",
        "ANS - SELECT REPLACE(FIRST_NAME , 'a' , 'A') FROM WORKER "
      ],
      "metadata": {
        "id": "n1wuF3Mq-_1n"
      }
    },
    {
      "cell_type": "markdown",
      "source": [
        "**Q-2. Write an SQL query to print all Worker details from the Worker table order by\n",
        "FIRST_NAME Ascending and DEPARTMENT Descending.**  \n",
        "ANS - SELECT * FROM WORKER ORDER BY FIRST_NAME ASC , LAST_NAME DESC"
      ],
      "metadata": {
        "id": "WIWnw2wF_Pxh"
      }
    },
    {
      "cell_type": "markdown",
      "source": [
        "**Q-3. Write an SQL query to fetch the names of workers who earn the highest salary.**  \n",
        "ANS - SELECT FIRST_NAME , LAST NAME FROM WORKER WHERE SALARY = (SELECT MAX(SALARY FROM  WORKER)"
      ],
      "metadata": {
        "id": "Tnuy0EIt_hl4"
      }
    }
  ]
}