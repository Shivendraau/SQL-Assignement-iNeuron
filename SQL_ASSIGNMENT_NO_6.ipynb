{
  "nbformat": 4,
  "nbformat_minor": 0,
  "metadata": {
    "colab": {
      "name": "SQL_ASSIGNMENT_NO.6.ipynb",
      "provenance": [],
      "collapsed_sections": []
    },
    "kernelspec": {
      "name": "python3",
      "display_name": "Python 3"
    },
    "language_info": {
      "name": "python"
    }
  },
  "cells": [
    {
      "cell_type": "markdown",
      "source": [
        "**Q-1. Write an SQL query to print details of the Workers who have joined in Feb’2014.**  \n",
        "ANS - SELECT * FROM Worker WHERE YEAR(JOINING_DATE) = 2014 AND MONTH(JOINING_DATE) = 02"
      ],
      "metadata": {
        "id": "2Hi4KbcQsvQY"
      }
    },
    {
      "cell_type": "markdown",
      "source": [
        "**Q-2. Write an SQL query to fetch duplicate records having matching data in some fields of a table.**  \n",
        "ANS - SELECT column_name, COUNT(column_name) FROM Worker GROUP BY FEILD HAVING COUNT(column_name) > 1"
      ],
      "metadata": {
        "id": "MmudJ0avtL4v"
      }
    },
    {
      "cell_type": "markdown",
      "source": [
        "**Q-3. How to remove duplicate rows from Employees table**  \n",
        "ANS - CREATE TABLE Employee (    \n",
        "    ID INT PRIMARY KEY AUTO_INCREMENT NOT NULL,  \n",
        "    FIRST_NAME VARCHAR(50),  \n",
        "    LAST_NAME VARCHAR(50),  \n",
        "    COUNTRY VARCHAR(50)     \n",
        ");  \n",
        "INSERT INTO Employee VALUES   \n",
        "(1,'ADITYA','VARMA','INDIA'),  \n",
        "(2,'ADITYA','VARMA','INDIA'),  \n",
        "(3,'ADITYA','VARMA','INDIA'),  \n",
        "(4,'STEVE','JOBS','USA'),  \n",
        "(5,'STEVE','JOBS','USA'),  \n",
        "(6,'STEVE','JOBS','USA');\n",
        "\n",
        "DELETE e1.* from employee e1 INNER JOIN employee e2 WHERE e1.id > e2.id AND e1.FIRST_NAME = e2.FIRST_NAME AND e1.LAST_NAME = e2.LAST_NAME AND e1.COUNTRY = e2.COUNTRY;"
      ],
      "metadata": {
        "id": "F8oh1bkjtTLK"
      }
    }
  ]
}
