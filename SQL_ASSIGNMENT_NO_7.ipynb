{
  "nbformat": 4,
  "nbformat_minor": 0,
  "metadata": {
    "colab": {
      "name": "SQL_ASSIGNMENT_NO.7.ipynb",
      "provenance": [],
      "collapsed_sections": []
    },
    "kernelspec": {
      "name": "python3",
      "display_name": "Python 3"
    },
    "language_info": {
      "name": "python"
    }
  },
  "cells": [
    {
      "cell_type": "markdown",
      "source": [
        "**Q-13. Write an SQL query to show only odd rows from a table.**  \n",
        "ANS - SELECT * FROM Worker WHERE MOD(worker_id,2) = 1"
      ],
      "metadata": {
        "id": "yvTcL7bDxed5"
      }
    },
    {
      "cell_type": "markdown",
      "source": [
        "**Q-14. Write an SQL query to clone a new table from another table**  \n",
        "ANS - #Code to Create a New table  \n",
        "CREATE TABLE CloneWorker (  \n",
        "    WORKER_ID INT NOT NULL AUTO INCREMENT PRIMARY KEY,  \n",
        "    FIRST_NAME VARCHAR(50),  \n",
        "    LAST_NAME VARCHAR(50),  \n",
        "    SALARY INT,  \n",
        "    DEPARTMENT VARCHAR(50),  \n",
        "    JOINING_DATE DATETIME\n",
        ");\n",
        " Code to Clone content of a table to another table  \n",
        "INSERT INTO CloneWorker SELECT * FROM Worker;"
      ],
      "metadata": {
        "id": "k8Gq4NGaxsn4"
      }
    }
  ]
}