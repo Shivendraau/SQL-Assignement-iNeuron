{
  "nbformat": 4,
  "nbformat_minor": 0,
  "metadata": {
    "colab": {
      "name": "SQL_ASSIGNMENT_NO.1.ipynb",
      "provenance": [],
      "collapsed_sections": []
    },
    "kernelspec": {
      "name": "python3",
      "display_name": "Python 3"
    },
    "language_info": {
      "name": "python"
    }
  },
  "cells": [
    {
      "cell_type": "markdown",
      "source": [
        "**Q-1. Write an SQL query to fetch “FIRST_NAME” from Worker table using the alias\n",
        "name as &lt;WORKER_NAME&gt;.**  \n",
        "ANS - SELECT FIRST_NAME AS WORKER_NAME FROM Worker"
      ],
      "metadata": {
        "id": "34DfSDktHOAP"
      }
    },
    {
      "cell_type": "markdown",
      "source": [
        "**Q-2. Write an SQL query to fetch unique values of DEPARTMENT from Worker table.**  \n",
        "ANS - SELECT DISTINCT DEPARTMENT FROM Worker"
      ],
      "metadata": {
        "id": "emn7GughHX09"
      }
    },
    {
      "cell_type": "markdown",
      "source": [
        "**Q-3. Write an SQL query to show the last 5 record from a table.**  \n",
        "ANS - SELECT * from Worker ORDER by id DESC LIMIT 5"
      ],
      "metadata": {
        "id": "Re6xlbLRHd9N"
      }
    }
  ]
}