{
  "nbformat": 4,
  "nbformat_minor": 0,
  "metadata": {
    "colab": {
      "name": "SQL_ASSIGNMENT_NO.2.ipynb",
      "provenance": [],
      "collapsed_sections": []
    },
    "kernelspec": {
      "name": "python3",
      "display_name": "Python 3"
    },
    "language_info": {
      "name": "python"
    }
  },
  "cells": [
    {
      "cell_type": "markdown",
      "source": [
        "**Q-1. Write an SQL query to print the first three characters of  FIRST_NAME from Worker\n",
        "table.**  \n",
        "ANS - SELECT SUBSTRING(FIRST_NAME,1,3) FROM Worker"
      ],
      "metadata": {
        "id": "linUagWfIPRh"
      }
    },
    {
      "cell_type": "markdown",
      "source": [
        "**Q-2. Write an SQL query to find the position of the alphabet (‘a’) in the first name\n",
        "column ‘Amitabh’ from Worker table.**  \n",
        "ANS - SELECT LOCATE('a',FIRST_NAME) FROM Worker WHERE FIRST_NAME = 'Amitabh'"
      ],
      "metadata": {
        "id": "yRoBErtoIYcr"
      }
    },
    {
      "cell_type": "markdown",
      "source": [
        "**Q-3. Write an SQL query to print the name of employees having the highest salary in each\n",
        "department.**  \n",
        "ANS - SELECT first_name, last_name, salary, department FROM Worker w WHERE salary = (SELECT MAX(salary) FROM Worker WHERE department = w.department)"
      ],
      "metadata": {
        "id": "Q9DaNsk0JIjf"
      }
    }
  ]
}