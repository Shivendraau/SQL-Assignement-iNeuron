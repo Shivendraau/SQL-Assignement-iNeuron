{
  "nbformat": 4,
  "nbformat_minor": 0,
  "metadata": {
    "colab": {
      "name": "SQL_ASSIGNMENT_NO.8.ipynb",
      "provenance": [],
      "collapsed_sections": []
    },
    "kernelspec": {
      "name": "python3",
      "display_name": "Python 3"
    },
    "language_info": {
      "name": "python"
    }
  },
  "cells": [
    {
      "cell_type": "markdown",
      "source": [
        "**Q-15. Write an SQL query to fetch intersecting records of two tables**  \n",
        "ANS - SELECT <Column_names> FROM table_1 INTERSECT SELECT <Column_names> FROM table_2"
      ],
      "metadata": {
        "id": "kv_K2VXvyu0D"
      }
    },
    {
      "cell_type": "markdown",
      "source": [
        "**Q-16. Write an SQL query to show records from one table that another table does not have**  \n",
        "ANS - SELECT * FROM table_1 EXCEPT SELECT * FROM table_2"
      ],
      "metadata": {
        "id": "P6Px--xly01q"
      }
    }
  ]
}