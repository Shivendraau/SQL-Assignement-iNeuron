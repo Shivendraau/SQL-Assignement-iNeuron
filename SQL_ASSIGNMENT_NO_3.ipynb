{
  "nbformat": 4,
  "nbformat_minor": 0,
  "metadata": {
    "colab": {
      "name": "SQL_ASSIGNMENT_NO.3.ipynb",
      "provenance": [],
      "collapsed_sections": []
    },
    "kernelspec": {
      "name": "python3",
      "display_name": "Python 3"
    },
    "language_info": {
      "name": "python"
    }
  },
  "cells": [
    {
      "cell_type": "markdown",
      "source": [
        "**Q-1. Write an SQL query to print the FIRST_NAME from Worker table after removing\n",
        "white spaces from the right side.**  \n",
        "ANS - SELECT RTRIM(FIRST_NAME) FROM WORKER"
      ],
      "metadata": {
        "id": "NPDLmYvQ9TbM"
      }
    },
    {
      "cell_type": "markdown",
      "source": [
        "**Q-2. Write an SQL query that fetches the unique values of DEPARTMENT from Worker\n",
        "table and prints its length.**  \n",
        "ANS - SELECT DISTINCT(DEPARTMENT) , LEN(DEPARTMENT) FROM WORKER"
      ],
      "metadata": {
        "id": "5YyTaIFE9vqs"
      }
    },
    {
      "cell_type": "markdown",
      "source": [
        "**Q-3. Write an SQL query to fetch nth max salaries from a table.**  \n",
        "AND - SELECT DISTINCT(SALARY) FROM WORKER ORDER BY DESC LIMI1 1 OFFSET n;"
      ],
      "metadata": {
        "id": "yy7_K1px-DQj"
      }
    }
  ]
}