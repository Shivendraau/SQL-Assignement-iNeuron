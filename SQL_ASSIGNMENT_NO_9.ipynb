{
  "nbformat": 4,
  "nbformat_minor": 0,
  "metadata": {
    "colab": {
      "name": "SQL_ASSIGNMENT_NO.9.ipynb",
      "provenance": [],
      "collapsed_sections": []
    },
    "kernelspec": {
      "name": "python3",
      "display_name": "Python 3"
    },
    "language_info": {
      "name": "python"
    }
  },
  "cells": [
    {
      "cell_type": "markdown",
      "source": [
        "**Q-17. Write an SQL query to show the top n (say 10) records of a table.**  \n",
        "ANS - SELECT TOP 10 * FROM Worker;   #Top Keyword is not supported by Many Popular Databases  \n",
        "SELECT * FROM Worker LIMIT 10;"
      ],
      "metadata": {
        "id": "OE2NwYdXzSjk"
      }
    },
    {
      "cell_type": "markdown",
      "source": [
        "**Q-18. Write an SQL query to determine the nth (say n=5) highest salary from a table.**  \n",
        "ANS - SELECT DISTINCT(Salary) FROM Worker ORDER BY DESC LIMIT 1 OFFSET 5;"
      ],
      "metadata": {
        "id": "DRvxX7_SzdfI"
      }
    }
  ]
}