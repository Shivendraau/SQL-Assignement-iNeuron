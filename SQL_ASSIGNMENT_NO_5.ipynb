{
  "nbformat": 4,
  "nbformat_minor": 0,
  "metadata": {
    "colab": {
      "name": "SQL_ASSIGNMENT_NO.4.ipynb",
      "provenance": [],
      "collapsed_sections": []
    },
    "kernelspec": {
      "name": "python3",
      "display_name": "Python 3"
    },
    "language_info": {
      "name": "python"
    }
  },
  "cells": [
    {
      "cell_type": "markdown",
      "source": [
        "**Q-1. Write an SQL query to print details of workers excluding first names, “Vipul” and\n",
        "“Satish” from Worker table.**  \n",
        "ANS - SELECT * FROM Worker WHERE FIRST_NAME NOT IN('Vipul' , 'Satish')"
      ],
      "metadata": {
        "id": "1QuC7olwqOiS"
      }
    },
    {
      "cell_type": "markdown",
      "source": [
        "**Q-2. Write an SQL query to print details of the Workers whose FIRST_NAME ends with ‘h’ and contains six alphabets.**  \n",
        "ANS - SELECT * FROM Worker WHERE FIRST_NAME LIKE '______h'"
      ],
      "metadata": {
        "id": "dSCh3dLWrGLE"
      }
    },
    {
      "cell_type": "markdown",
      "source": [
        "**Q-3. Write a query to validate Email of Employee.**  \n",
        "ANS - SELECT * FROM Worker WHEERE Email like '%@cuchd.in'"
      ],
      "metadata": {
        "id": "2aC28eJKrdNM"
      }
    }
  ]
}
