{
  "nbformat": 4,
  "nbformat_minor": 0,
  "metadata": {
    "colab": {
      "name": "SQL_ASSIGNMENT_NO.10.ipynb",
      "provenance": [],
      "collapsed_sections": []
    },
    "kernelspec": {
      "name": "python3",
      "display_name": "Python 3"
    },
    "language_info": {
      "name": "python"
    }
  },
  "cells": [
    {
      "cell_type": "markdown",
      "source": [
        "**Q-19. Write an SQL query to determine the 5th highest salary without using TOP or limit method.**  \n",
        "ANS - SELECT * FROM (SELECT ROW_NUMBER()   \n",
        "OVER (ORDER BY salary DESC) AS R_NUM, first_name, salary   \n",
        "FROM employee) as HEllO WHERE R_NUM=5;\n"
      ],
      "metadata": {
        "id": "URjmE4aU0C-V"
      }
    },
    {
      "cell_type": "markdown",
      "source": [
        "**Q-20. Write an SQL query to fetch the list of employees with the same salary**  \n",
        "ANS - CREATE TABLE employee (  \n",
        "    emp_id INT PRIMARY KEY AUTO_INCREMENT NOT NULL,  \n",
        "    first_name VARCHAR(50),  \n",
        "    last_name VARCHAR(50),  \n",
        "    salary INT  \n",
        ");   \n",
        "\n",
        "INSERT INTO employee VALUES  \n",
        "(1,'Luke','Skywalker',100),  \n",
        "(2,'Anakin','Skywalker',200),  \n",
        "(3,'Liea','Skywalker',50),  \n",
        "(4,'Rey','Skywalker',150),  \n",
        "(5,'Han','Solo',100),  \n",
        "(6,'Darth','Vader',150);  \n",
        "\n",
        "SELECT * FROM employee ORDER BY salary ASC;"
      ],
      "metadata": {
        "id": "dUiy4C8g0YpU"
      }
    }
  ]
}